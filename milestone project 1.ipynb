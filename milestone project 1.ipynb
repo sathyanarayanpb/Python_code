{
 "cells": [
  {
   "cell_type": "code",
   "execution_count": 1,
   "id": "1c70db40",
   "metadata": {},
   "outputs": [],
   "source": [
    "def display_board(board):\n",
    "    print(board[7]+'|'+board[8]+'|'+board[9])\n",
    "    print(board[4]+'|'+board[5]+'|'+board[6])\n",
    "    print(board[1]+'|'+board[2]+'|'+board[3])"
   ]
  },
  {
   "cell_type": "code",
   "execution_count": 2,
   "id": "8c7b376b",
   "metadata": {},
   "outputs": [
    {
     "name": "stdout",
     "output_type": "stream",
     "text": [
      "X|O|X\n",
      "O|X|O\n",
      "X|O|X\n"
     ]
    }
   ],
   "source": [
    "test_board = ['#','X','O','X','O','X','O','X','O','X']\n",
    "display_board(test_board)"
   ]
  },
  {
   "cell_type": "code",
   "execution_count": 3,
   "id": "c3aecee1",
   "metadata": {},
   "outputs": [],
   "source": [
    "test_board = [' ']*10"
   ]
  },
  {
   "cell_type": "code",
   "execution_count": 4,
   "id": "22b7ffe6",
   "metadata": {},
   "outputs": [
    {
     "name": "stdout",
     "output_type": "stream",
     "text": [
      " | | \n",
      " | | \n",
      " | | \n"
     ]
    }
   ],
   "source": [
    "display_board(test_board)"
   ]
  },
  {
   "cell_type": "code",
   "execution_count": 5,
   "id": "98c149c3",
   "metadata": {},
   "outputs": [],
   "source": [
    "def player_symbol_choice():\n",
    "    p1 = input('player 1 choose a symbol X or O ')\n",
    "    p2= 'replace'\n",
    "    while p1 == 'X': \n",
    "        p2 = 'O'\n",
    "        print('choice made player1 is {} and player2 is {} '.format(p1,p2))\n",
    "        return p1,p2\n",
    "        break\n",
    "    while p1 =='O':\n",
    "        p2 ='X'\n",
    "        print('choice made player1 is {} and player2 is {} '.format(p1,p2))\n",
    "        return p1,p2\n",
    "        break\n",
    "        \n",
    "   "
   ]
  },
  {
   "cell_type": "code",
   "execution_count": 6,
   "id": "30a96ad9",
   "metadata": {},
   "outputs": [],
   "source": [
    "def place_marker(board,marker,position):\n",
    "    board[position] = marker "
   ]
  },
  {
   "cell_type": "code",
   "execution_count": null,
   "id": "50e5ed01",
   "metadata": {
    "scrolled": true
   },
   "outputs": [],
   "source": [
    "place_marker(test_board,'$',7)\n",
    "display_board(test_board)"
   ]
  },
  {
   "cell_type": "code",
   "execution_count": 7,
   "id": "dbab050c",
   "metadata": {},
   "outputs": [],
   "source": [
    "def win_check(board,mark):\n",
    "    if (board[7] == board[8] == board[9] == mark) or (board[4] == board[5] == board[6] == mark) or  (board[1] == board[2] == board[3] == mark):\n",
    "        return True\n",
    "        print(' { } mark won the game '.format(mark))   \n",
    "    elif (board[7] == board[4] == board[1] == mark) or (board[8] == board[5] == board[2] == mark)  or  (board[9] == board[6] == board[3] == mark):\n",
    "        return True\n",
    "        print(' { } mark won the game '.format(mark))\n",
    "    elif (board[7] == board[5] == board[3] == mark) or (board[9] == board[5] == board[1] == mark) :\n",
    "        return True\n",
    "        print(' { } mark won the game '.format(mark))\n",
    "    else:\n",
    "        pass\n",
    "        print('no one won the game')"
   ]
  },
  {
   "cell_type": "code",
   "execution_count": null,
   "id": "212f3fc9",
   "metadata": {},
   "outputs": [],
   "source": [
    "display_board(test_board)\n",
    "win_check(test_board,'O')"
   ]
  },
  {
   "cell_type": "code",
   "execution_count": 8,
   "id": "183534f0",
   "metadata": {},
   "outputs": [],
   "source": [
    "from random import randint\n",
    "def choose_first():\n",
    "    choosen_player = randint(1,2)\n",
    "    print('player {} that is p{} will go first '.format(choosen_player,choosen_player))"
   ]
  },
  {
   "cell_type": "code",
   "execution_count": null,
   "id": "8025cebd",
   "metadata": {},
   "outputs": [],
   "source": [
    "choose_first()"
   ]
  },
  {
   "cell_type": "code",
   "execution_count": 9,
   "id": "5785a541",
   "metadata": {},
   "outputs": [],
   "source": [
    "def space_check(board,position):\n",
    "    if board[position] == ' ':\n",
    "        print('Space is available to play')\n",
    "        return True\n",
    "    else:\n",
    "        print('That space is already taken, enter an other number!')\n",
    "        return False"
   ]
  },
  {
   "cell_type": "code",
   "execution_count": null,
   "id": "3456037c",
   "metadata": {},
   "outputs": [],
   "source": [
    "space_check(test_board,7)"
   ]
  },
  {
   "cell_type": "code",
   "execution_count": 10,
   "id": "607981d8",
   "metadata": {},
   "outputs": [],
   "source": [
    "def full_board_check(board):\n",
    "        \n",
    "        for i in range(1,10):\n",
    "            if space_check(board,i):\n",
    "                print('board is not yet full can continue playing')\n",
    "                return False\n",
    "            else:\n",
    "                print(\"board  full, can't continue playing\")\n",
    "                return True"
   ]
  },
  {
   "cell_type": "code",
   "execution_count": null,
   "id": "30132511",
   "metadata": {},
   "outputs": [],
   "source": [
    "full_board_check(test_board)"
   ]
  },
  {
   "cell_type": "code",
   "execution_count": null,
   "id": "394dd50b",
   "metadata": {},
   "outputs": [],
   "source": [
    "display_board(test_board)"
   ]
  },
  {
   "cell_type": "code",
   "execution_count": 11,
   "id": "bd232185",
   "metadata": {},
   "outputs": [],
   "source": [
    "def player_choice(board):\n",
    "    position = ''\n",
    "    while position not in range(1,10) or  not space_check(board,position):\n",
    "        position= int(input('choose a position:(1-9) '))\n",
    "    return position"
   ]
  },
  {
   "cell_type": "code",
   "execution_count": null,
   "id": "bfe0cf9c",
   "metadata": {},
   "outputs": [],
   "source": [
    "player_choice(test_board)"
   ]
  },
  {
   "cell_type": "code",
   "execution_count": 12,
   "id": "bc036bdb",
   "metadata": {},
   "outputs": [],
   "source": [
    "def replay():\n",
    "    p1= input(\"do you want to play again {} ? type yes or no \")\n",
    "    if p1 == 'no':\n",
    "        print(\"one of the players don't want to play\")\n",
    "        return False\n",
    "    elif p1 == 'yes':\n",
    "        p2=input(\"do you want to play again {} ? type yes or no \")\n",
    "        print('lets play')\n",
    "        return True\n",
    "    else:\n",
    "        pass"
   ]
  },
  {
   "cell_type": "code",
   "execution_count": null,
   "id": "75cb17bb",
   "metadata": {},
   "outputs": [],
   "source": [
    "replay()"
   ]
  },
  {
   "cell_type": "code",
   "execution_count": null,
   "id": "b495e4bd",
   "metadata": {},
   "outputs": [],
   "source": [
    "# Game on:\n"
   ]
  },
  {
   "cell_type": "code",
   "execution_count": 17,
   "id": "5f211f53",
   "metadata": {},
   "outputs": [
    {
     "name": "stdout",
     "output_type": "stream",
     "text": [
      "welcome to TIC TAC TOE\n",
      "player 1 choose a symbol X or O X\n",
      "choice made player1 is X and player2 is O \n",
      "player 1 that is p1 will go first \n",
      "ready to play? Enter y or n y\n",
      "no one won the game\n",
      "Space is available to play\n",
      "board is not yet full can continue playing\n",
      " | | \n",
      " | | \n",
      " | | \n",
      "choose a position:(1-9) 4\n",
      "Space is available to play\n",
      "no one won the game\n",
      "Space is available to play\n",
      "board is not yet full can continue playing\n",
      " | | \n",
      "X| | \n",
      " | | \n",
      "choose a position:(1-9) 2\n",
      "Space is available to play\n",
      "no one won the game\n",
      "Space is available to play\n",
      "board is not yet full can continue playing\n",
      " | | \n",
      "X| | \n",
      " |O| \n",
      "choose a position:(1-9) 7\n",
      "Space is available to play\n",
      "no one won the game\n",
      "Space is available to play\n",
      "board is not yet full can continue playing\n",
      "X| | \n",
      "X| | \n",
      " |O| \n",
      "choose a position:(1-9) 8\n",
      "Space is available to play\n",
      "no one won the game\n",
      "Space is available to play\n",
      "board is not yet full can continue playing\n",
      "X|O| \n",
      "X| | \n",
      " |O| \n",
      "choose a position:(1-9) 5\n",
      "Space is available to play\n",
      "no one won the game\n",
      "Space is available to play\n",
      "board is not yet full can continue playing\n",
      "X|O| \n",
      "X|X| \n",
      " |O| \n",
      "choose a position:(1-9) 6\n",
      "Space is available to play\n",
      "no one won the game\n",
      "Space is available to play\n",
      "board is not yet full can continue playing\n",
      "X|O| \n",
      "X|X|O\n",
      " |O| \n",
      "choose a position:(1-9) 1\n",
      "Space is available to play\n",
      "X|O| \n",
      "X|X|O\n",
      "X|O| \n",
      "Player 1 has won\n",
      "do you want to play again {} ? type yes or no no\n",
      "one of the players don't want to play\n"
     ]
    }
   ],
   "source": [
    "print('welcome to TIC TAC TOE')\n",
    "\n",
    "while True:\n",
    "    The_board = [' ']*10\n",
    "    player1_marker, player2_marker = player_symbol_choice()\n",
    "    turn = choose_first()\n",
    "    play_game = input('ready to play? Enter y or n ')\n",
    "    \n",
    "    if play_game == 'y':\n",
    "        game_on = True\n",
    "    else:\n",
    "        game_on = False\n",
    "        \n",
    "    while game_on:\n",
    "        \n",
    "        if turn == 'player 1':\n",
    "            display_board(The_board)\n",
    "            position = player_choice(The_board)\n",
    "            place_marker(The_board,player1_marker,position)\n",
    "            \n",
    "            if win_check(The_board,player1_marker):\n",
    "                display_board(The_board)\n",
    "                print('Player 1 has won')\n",
    "                game_on = False\n",
    "                \n",
    "            else:\n",
    "                if full_board_check(The_board):\n",
    "                    display_board(The_board)\n",
    "                    print('TIE GAME')\n",
    "                    game_on = False\n",
    "                    break\n",
    "                else:\n",
    "                    turn = 'player 2'\n",
    "        else:\n",
    "            if turn == 'player 2':\n",
    "                display_board(The_board)\n",
    "                position = player_choice(The_board)\n",
    "                place_marker(The_board,player2_marker,position)\n",
    "            \n",
    "            if win_check(The_board,player2_marker):\n",
    "                display_board(The_board)\n",
    "                print('Player 2 has won')\n",
    "                game_on = False\n",
    "                \n",
    "            else:\n",
    "                if full_board_check(The_board):\n",
    "                    display_board(The_board)\n",
    "                    print('TIE GAME')\n",
    "                    game_on = False\n",
    "                    break\n",
    "                else:\n",
    "                    turn = 'player 1'\n",
    "    \n",
    "    if not replay():\n",
    "\n",
    "        break"
   ]
  },
  {
   "cell_type": "code",
   "execution_count": null,
   "id": "6ada80ea",
   "metadata": {},
   "outputs": [],
   "source": [
    "    "
   ]
  }
 ],
 "metadata": {
  "kernelspec": {
   "display_name": "Python 3 (ipykernel)",
   "language": "python",
   "name": "python3"
  },
  "language_info": {
   "codemirror_mode": {
    "name": "ipython",
    "version": 3
   },
   "file_extension": ".py",
   "mimetype": "text/x-python",
   "name": "python",
   "nbconvert_exporter": "python",
   "pygments_lexer": "ipython3",
   "version": "3.9.7"
  }
 },
 "nbformat": 4,
 "nbformat_minor": 5
}
